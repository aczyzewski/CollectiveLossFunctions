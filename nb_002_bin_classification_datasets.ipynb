{
 "cells": [
  {
   "cell_type": "markdown",
   "metadata": {},
   "source": [
    "# Task\n",
    "Wybrać z UCI MLR 5 zbiorów danych do klasyfikacji binarnej + prosty interfejs odczytu"
   ]
  },
  {
   "cell_type": "code",
   "execution_count": 1,
   "metadata": {},
   "outputs": [],
   "source": [
    "%load_ext autoreload\n",
    "%autoreload 2"
   ]
  },
  {
   "cell_type": "code",
   "execution_count": 2,
   "metadata": {},
   "outputs": [],
   "source": [
    "from src.data.uci.database import UCIDatabase"
   ]
  },
  {
   "cell_type": "code",
   "execution_count": 3,
   "metadata": {},
   "outputs": [],
   "source": [
    "bin_classifiation_datasets = [\n",
    "    'Phishing Websites',\n",
    "    'Breast Cancer Wisconsin (Diagnostic)',\n",
    "    'Bank Marketing',\n",
    "    'HIGGS',\n",
    "    'Adult'\n",
    "]"
   ]
  },
  {
   "cell_type": "code",
   "execution_count": 4,
   "metadata": {},
   "outputs": [],
   "source": [
    "db = UCIDatabase()"
   ]
  },
  {
   "cell_type": "code",
   "execution_count": 5,
   "metadata": {},
   "outputs": [
    {
     "name": "stdout",
     "output_type": "stream",
     "text": [
      "Dataset: Phishing Websites | Shape: (11055, 31)\n",
      "Dataset: Breast Cancer Wisconsin (Diagnostic) | Shape: (568, 32)\n",
      "Dataset: Bank Marketing | Shape: (4119, 21)\n",
      "Dataset: HIGGS | Shape: (11000000, 29)\n",
      "Dataset: Adult | Shape: (48842, 15)\n"
     ]
    }
   ],
   "source": [
    "for dataset_name in bin_classifiation_datasets:\n",
    "    dataset = db.get(lambda x: x.name == dataset_name, first_only=True)\n",
    "    data = dataset.to_df()\n",
    "    print(f'Dataset: {dataset.name} | Shape: {data.shape}')"
   ]
  },
  {
   "cell_type": "code",
   "execution_count": null,
   "metadata": {},
   "outputs": [],
   "source": []
  }
 ],
 "metadata": {
  "kernelspec": {
   "display_name": "Python 3",
   "language": "python",
   "name": "python3"
  },
  "language_info": {
   "codemirror_mode": {
    "name": "ipython",
    "version": 3
   },
   "file_extension": ".py",
   "mimetype": "text/x-python",
   "name": "python",
   "nbconvert_exporter": "python",
   "pygments_lexer": "ipython3",
   "version": "3.7.5"
  }
 },
 "nbformat": 4,
 "nbformat_minor": 4
}
